{
 "cells": [
  {
   "cell_type": "code",
   "execution_count": 12,
   "id": "90b53606-1efc-4c1d-b004-b61c93a36ac7",
   "metadata": {},
   "outputs": [],
   "source": [
    "import face_rec"
   ]
  },
  {
   "cell_type": "code",
   "execution_count": 13,
   "id": "0d6e3258-33f9-4e74-8899-723bfb56baef",
   "metadata": {},
   "outputs": [],
   "source": [
    "import pandas as pd\n",
    "import numpy as np\n",
    "import cv2"
   ]
  },
  {
   "cell_type": "code",
   "execution_count": 14,
   "id": "423ac44f-32ef-4932-8616-1668b60996d0",
   "metadata": {},
   "outputs": [
    {
     "data": {
      "text/plain": [
       "True"
      ]
     },
     "execution_count": 14,
     "metadata": {},
     "output_type": "execute_result"
    }
   ],
   "source": [
    "face_rec.r.ping()"
   ]
  },
  {
   "cell_type": "markdown",
   "id": "1c794c24-f9f3-4513-87ed-52f6afdce181",
   "metadata": {},
   "source": [
    "#### Step-1: Extract Data from database"
   ]
  },
  {
   "cell_type": "code",
   "execution_count": 15,
   "id": "6150e5cd-28da-4845-b3d9-73542458392f",
   "metadata": {},
   "outputs": [
    {
     "data": {
      "text/html": [
       "<div>\n",
       "<style scoped>\n",
       "    .dataframe tbody tr th:only-of-type {\n",
       "        vertical-align: middle;\n",
       "    }\n",
       "\n",
       "    .dataframe tbody tr th {\n",
       "        vertical-align: top;\n",
       "    }\n",
       "\n",
       "    .dataframe thead th {\n",
       "        text-align: right;\n",
       "    }\n",
       "</style>\n",
       "<table border=\"1\" class=\"dataframe\">\n",
       "  <thead>\n",
       "    <tr style=\"text-align: right;\">\n",
       "      <th></th>\n",
       "      <th>name_role</th>\n",
       "      <th>facial_features</th>\n",
       "      <th>Name</th>\n",
       "      <th>Role</th>\n",
       "    </tr>\n",
       "  </thead>\n",
       "  <tbody>\n",
       "    <tr>\n",
       "      <th>0</th>\n",
       "      <td>Ayush_PC24@Student</td>\n",
       "      <td>[-1.1310793, 0.22157845, -0.8644012, 0.3219679...</td>\n",
       "      <td>Ayush_PC24</td>\n",
       "      <td>Student</td>\n",
       "    </tr>\n",
       "    <tr>\n",
       "      <th>1</th>\n",
       "      <td>Prabhanjan_PC19@Student</td>\n",
       "      <td>[-0.13739689, 0.59309655, 0.6826751, 0.8627867...</td>\n",
       "      <td>Prabhanjan_PC19</td>\n",
       "      <td>Student</td>\n",
       "    </tr>\n",
       "    <tr>\n",
       "      <th>2</th>\n",
       "      <td>Anish_PA70@Student</td>\n",
       "      <td>[-0.92406213, -0.71368057, -0.23641296, -0.154...</td>\n",
       "      <td>Anish_PA70</td>\n",
       "      <td>Student</td>\n",
       "    </tr>\n",
       "    <tr>\n",
       "      <th>3</th>\n",
       "      <td>Barack Obama@Teacher</td>\n",
       "      <td>[0.94841325, -0.5583419, 0.09482177, -1.279714...</td>\n",
       "      <td>Barack Obama</td>\n",
       "      <td>Teacher</td>\n",
       "    </tr>\n",
       "    <tr>\n",
       "      <th>4</th>\n",
       "      <td>Angelina Jolie@Student</td>\n",
       "      <td>[0.43206447, 1.075011, -0.1285299, -1.8333918,...</td>\n",
       "      <td>Angelina Jolie</td>\n",
       "      <td>Student</td>\n",
       "    </tr>\n",
       "    <tr>\n",
       "      <th>5</th>\n",
       "      <td>Morgan Freeman@Teacher</td>\n",
       "      <td>[0.48527828, -0.6193287, -0.40698832, 1.068717...</td>\n",
       "      <td>Morgan Freeman</td>\n",
       "      <td>Teacher</td>\n",
       "    </tr>\n",
       "    <tr>\n",
       "      <th>6</th>\n",
       "      <td>Chris Evans@Student</td>\n",
       "      <td>[0.7200023, -1.4684912, -0.7778238, -1.4601221...</td>\n",
       "      <td>Chris Evans</td>\n",
       "      <td>Student</td>\n",
       "    </tr>\n",
       "    <tr>\n",
       "      <th>7</th>\n",
       "      <td>Scarlett Johansson@Student</td>\n",
       "      <td>[0.3408678, -0.5793298, -1.7011663, 0.35731304...</td>\n",
       "      <td>Scarlett Johansson</td>\n",
       "      <td>Student</td>\n",
       "    </tr>\n",
       "  </tbody>\n",
       "</table>\n",
       "</div>"
      ],
      "text/plain": [
       "                    name_role  \\\n",
       "0          Ayush_PC24@Student   \n",
       "1     Prabhanjan_PC19@Student   \n",
       "2          Anish_PA70@Student   \n",
       "3        Barack Obama@Teacher   \n",
       "4      Angelina Jolie@Student   \n",
       "5      Morgan Freeman@Teacher   \n",
       "6         Chris Evans@Student   \n",
       "7  Scarlett Johansson@Student   \n",
       "\n",
       "                                     facial_features                Name  \\\n",
       "0  [-1.1310793, 0.22157845, -0.8644012, 0.3219679...          Ayush_PC24   \n",
       "1  [-0.13739689, 0.59309655, 0.6826751, 0.8627867...     Prabhanjan_PC19   \n",
       "2  [-0.92406213, -0.71368057, -0.23641296, -0.154...          Anish_PA70   \n",
       "3  [0.94841325, -0.5583419, 0.09482177, -1.279714...        Barack Obama   \n",
       "4  [0.43206447, 1.075011, -0.1285299, -1.8333918,...      Angelina Jolie   \n",
       "5  [0.48527828, -0.6193287, -0.40698832, 1.068717...      Morgan Freeman   \n",
       "6  [0.7200023, -1.4684912, -0.7778238, -1.4601221...         Chris Evans   \n",
       "7  [0.3408678, -0.5793298, -1.7011663, 0.35731304...  Scarlett Johansson   \n",
       "\n",
       "      Role  \n",
       "0  Student  \n",
       "1  Student  \n",
       "2  Student  \n",
       "3  Teacher  \n",
       "4  Student  \n",
       "5  Teacher  \n",
       "6  Student  \n",
       "7  Student  "
      ]
     },
     "execution_count": 15,
     "metadata": {},
     "output_type": "execute_result"
    }
   ],
   "source": [
    "name = 'academy:register'\n",
    "retrive_dict= face_rec.r.hgetall(name)\n",
    "retrive_series = pd.Series(retrive_dict)\n",
    "retrive_series = retrive_series.apply(lambda x: np.frombuffer(x,dtype=np.float32))\n",
    "index = retrive_series.index\n",
    "index = list(map(lambda x: x.decode(), index))\n",
    "retrive_series.index = index\n",
    "retrive_df =  retrive_series.to_frame().reset_index()\n",
    "retrive_df.columns = ['name_role','facial_features']\n",
    "retrive_df[['Name','Role']] = retrive_df['name_role'].apply(lambda x: x.split('@')).apply(pd.Series)\n",
    "retrive_df"
   ]
  },
  {
   "cell_type": "markdown",
   "id": "c582618f-aaf4-47f3-9679-d6d289f826f5",
   "metadata": {},
   "source": [
    "### Step-2: Get Real - Time Prediction"
   ]
  },
  {
   "cell_type": "code",
   "execution_count": 18,
   "id": "156e9789-2417-4936-b456-316bc936123a",
   "metadata": {},
   "outputs": [
    {
     "name": "stderr",
     "output_type": "stream",
     "text": [
      "2024-11-18 12:08:59.837 python[10893:3216014] IMKClient Stall detected, *please Report* your user scenario attaching a spindump (or sysdiagnose) that captures the problem - (imkxpc_bundleIdentifierWithReply:) block performed very slowly (12.53 secs).\n",
      "1   HIToolbox                           0x00007ff814fcc0c2 _ZN15MenuBarInstance22RemoveAutoShowObserverEv + 30\n",
      "2   HIToolbox                           0x00007ff815008638 _ZL17BroadcastInternaljPvh + 167\n",
      "3   SkyLight                            0x00007ff80fca323d _ZN12_GLOBAL__N_123notify_datagram_handlerEj15CGSDatagramTypePvmS1_ + 1030\n",
      "4   SkyLight                            0x00007ff80fca17f3 CGSSnarfAndDispatchDatagrams + 1055\n",
      "5   SkyLight                            0x00007ff80ffb0686 SLSGetNextEventRecordInternal + 284\n",
      "6   SkyLight                            0x00007ff80fdccaec SLEventCreateNextEvent + 9\n",
      "7   HIToolbox                           0x00007ff814fd9156 _ZL38PullEventsFromWindowServerOnConnectionjhP17__CFMachPortBoost + 45\n",
      "8   HIToolbox                           0x00007ff814fd90fb _ZL14MessageHandlerP12__CFMachPortPvlS1_ + 48\n",
      "9   CoreFoundation                      0x00007ff80b16918c __CFMachPortPerform + 244\n",
      "10  CoreFoundation                      0x00007ff80b13c3f8 __CFRUNLOOP_IS_CALLING_OUT_TO_A_SOURCE1_PERFORM_FUNCTION__ + 41\n",
      "11  CoreFoundation                      0x00007ff80b13c337 __CFRunLoopDoSource1 + 536\n",
      "12  CoreFoundation                      0x00007ff80b13afb6 __CFRunLoopRun + 2749\n",
      "13  CoreFoundation                      0x00007ff80b139e7f CFRunLoopRunSpecific + 560\n",
      "14  HIToolbox                           0x00007ff814fcc766 RunCurrentEventLoopInMode + 292\n",
      "15  HIToolbox                           0x00007ff814fcc396 ReceiveNextEventCommon + 199\n",
      "16  HIToolbox                           0x00007ff814fcc2b3 _BlockUntilNextEventMatchingListInModeWithFilter + 70\n",
      "17  AppKit                              0x00007ff80e1c52f3 _DPSNextEvent + 909\n",
      "18  AppKit                              0x00007ff80e1c4174 -[NSApplication(NSEvent) _nextEventMatchingEventMask:untilDate:inMode:dequeue:] + 1219\n",
      "19  cv2.abi3.so                         0x000000013a937cbf cvWaitKey + 335\n",
      "20  cv2.abi3.so                         0x000000013a9319e5 _ZN2cv9waitKeyExEi + 213\n",
      "21  cv2.abi3.so                         0x000000013a931ad4 _ZN2cv7waitKeyEi + 36\n",
      "22  cv2.abi3.so                         0x00000001399e34ea _ZL19pyopencv_cv_waitKeyP7_objectS0_S0_ + 154\n",
      "23  python3.9                           0x0000000104a2abb4 cfunction_call + 52\n",
      "24  python3.9                           0x00000001049ced36 _PyObject_MakeTpCall + 134\n",
      "25  python3.9                           0x0000000104afcbc7 call_function + 311\n",
      "26  python3.9                           0x0000000104af5988 _PyEval_EvalFrameDefault + 27608\n",
      "27  python3.9                           0x0000000104aed6e9 _PyEval_EvalCode + 489\n",
      "28  python3.9                           0x0000000104ae7c99 builtin_exec + 377\n",
      "29  python3.9                           0x0000000104a2b565 cfunction_vectorcall_FASTCALL + 85\n",
      "30  python3.9                           0x0000000104afcb3e call_function + 174\n",
      "31  python3.9                           0x0000000104af4c1d _PyEval_EvalFrameDefault + 24173\n",
      "32  python3.9                           0x00000001049e8b7f gen_send_ex + 175\n",
      "33  python3.9                           0x0000000104af6cf3 _PyEval_EvalFrameDefault + 32579\n",
      "34  python3.9                           0x00000001049e8b7f gen_send_ex + 175\n",
      "35  python3.9                           0x0000000104af6cf3 _PyEval_EvalFrameDefault + 32579\n",
      "36  python3.9                           0x00000001049e8b7f gen_send_ex + 175\n",
      "37  python3.9                           0x00000001049dd817 method_vectorcall_O + 103\n",
      "38  python3.9                           0x0000000104afcb3e call_function + 174\n",
      "39  python3.9                           0x0000000104af076a _PyEval_EvalFrameDefault + 6586\n",
      "40  python3.9                           0x00000001049cfa7b function_code_fastcall + 139\n",
      "41  python3.9                           0x0000000104afcb3e call_function + 174\n",
      "42  python3.9                           0x0000000104af4c1d _PyEval_EvalFrameDefault + 24173\n",
      "43  python3.9                           0x00000001049cfa7b function_code_fastcall + 139\n",
      "44  python3.9                           0x0000000104afcb3e call_function + 174\n",
      "45  python3.9                           0x0000000104af076a _PyEval_EvalFrameDefault + 6586\n",
      "46  python3.9                           0x0000000104aed6e9 _PyEval_EvalCode + 489\n",
      "47  python3.9                           0x00000001049cf9bc _PyFunction_Vectorcall + 236\n",
      "48  python3.9                           0x00000001049d2cde method_vectorcall + 158\n",
      "49  python3.9                           0x00000001049cf633 PyVectorcall_Call + 163\n",
      "50  python3.9                           0x0000000104af44a7 _PyEval_EvalFrameDefault + 22263\n",
      "51  python3.9                           0x0000000104aed6e9 _PyEval_EvalCode + 489\n",
      "52  python3.9                           0x00000001049cf9bc _PyFunction_Vectorcall + 236\n",
      "53  python3.9                           0x00000001049d2cde method_vectorcall + 158\n",
      "54  python3.9                           0x0000000104afcb3e call_function + 174\n",
      "55  python3.9                           0x0000000104af035c _PyEval_EvalFrameDefault + 5548\n",
      "56  python3.9                           0x00000001049e8b7f gen_send_ex + 175\n",
      "57  python3.9                           0x0000000104af6cf3 _PyEval_EvalFrameDefault + 32579\n",
      "58  python3.9                           0x00000001049e8b7f gen_send_ex + 175\n",
      "59  python3.9                           0x0000000104af6cf3 _PyEval_EvalFrameDefault + 32579\n",
      "60  python3.9                           0x00000001049e8b7f gen_send_ex + 175\n",
      "61  python3.9                           0x0000000104af6cf3 _PyEval_EvalFrameDefault + 32579\n",
      "62  python3.9                           0x00000001049e8b7f gen_send_ex + 175\n",
      "63  python3.9                           0x0000000104af6cf3 _PyEval_EvalFrameDefault + 32579\n",
      "64  python3.9                           0x00000001049e8b7f gen_send_ex + 175\n",
      "65  python3.9                           0x0000000104af6cf3 _PyEval_EvalFrameDefault + 32579\n",
      "66  python3.9                           0x00000001049e8b7f gen_send_ex + 175\n",
      "67  _asyncio.cpython-39-darwin.so       0x000000010dad697a task_step_impl + 442\n",
      "68  _asyncio.cpython-39-darwin.so       0x000000010dad672e task_step + 62\n",
      "69  _asyncio.cpython-39-darwin.so       0x000000010dad65c8 task_wakeup + 104\n",
      "70  _asyncio.cpython-39-darwin.so       0x000000010dad64bd TaskWakeupMethWrapper_call + 109\n",
      "71  python3.9                           0x00000001049ced36 _PyObject_MakeTpCall + 134\n",
      "72  python3.9                           0x0000000104b18321 context_run + 81\n",
      "73  python3.9                           0x0000000104a2b49c cfunction_vectorcall_FASTCALL_KEYWORDS + 76\n",
      "74  python3.9                           0x0000000104af44a7 _PyEval_EvalFrameDefault + 22263\n",
      "75  python3.9                           0x00000001049cfa7b function_code_fastcall + 139\n",
      "76  python3.9                           0x0000000104afcb3e call_function + 174\n",
      "77  python3.9                           0x0000000104af076a _PyEval_EvalFrameDefault + 6586\n",
      "78  python3.9                           0x00000001049cfa7b function_code_fastcall + 139\n",
      "79  python3.9                           0x0000000104afcb3e call_function + 174\n",
      "80  python3.9                           0x0000000104af076a _PyEval_EvalFrameDefault + 6586\n",
      "81  python3.9                           0x00000001049cfa7b function_code_fastcall + 139\n",
      "82  python3.9                           0x0000000104afcb3e call_function + 174\n",
      "83  python3.9                           0x0000000104af076a _PyEval_EvalFrameDefault + 6586\n",
      "84  python3.9                           0x00000001049cfa7b function_code_fastcall + 139\n",
      "85  python3.9                           0x0000000104afcb3e call_function + 174\n",
      "86  python3.9                           0x0000000104af076a _PyEval_EvalFrameDefault + 6586\n",
      "87  python3.9                           0x00000001049cfa7b function_code_fastcall + 139\n",
      "88  python3.9                           0x0000000104afcb3e call_function + 174\n",
      "89  python3.9                           0x0000000104af076a _PyEval_EvalFrameDefault + 6586\n",
      "90  python3.9                           0x0000000104aed6e9 _PyEval_EvalCode + 489\n",
      "91  python3.9                           0x00000001049cf9bc _PyFunction_Vectorcall + 236\n",
      "92  python3.9                           0x00000001049d2cde method_vectorcall + 158\n",
      "93  python3.9                           0x0000000104afcb3e call_function + 174\n",
      "94  python3.9                           0x0000000104af5988 _PyEval_EvalFrameDefault + 27608\n",
      "95  python3.9                           0x0000000104aed6e9 _PyEval_EvalCode + 489\n",
      "96  python3.9                           0x0000000104ae7c99 builtin_exec + 377\n",
      "97  python3.9                           0x0000000104a2b565 cfunction_vectorcall_FASTCALL + 85\n",
      "98  python3.9                           0x0000000104afcb3e call_function + 174\n",
      "99  python3.9                           0x0000000104af4c1d _PyEval_EvalFrameDefault + 24173\n",
      "100 python3.9                           0x0000000104aed6e9 _PyEval_EvalCode + 489\n",
      "101 python3.9                           0x00000001049cf9bc _PyFunction_Vectorcall + 236\n",
      "102 python3.9                           0x0000000104afcb3e call_function + 174\n",
      "103 python3.9                           0x0000000104af4c1d _PyEval_EvalFrameDefault + 24173\n",
      "104 python3.9                           0x0000000104aed6e9 _PyEval_EvalCode + 489\n",
      "105 python3.9                           0x00000001049cf9bc _PyFunction_Vectorcall + 236\n",
      "106 python3.9                           0x0000000104b80ec2 pymain_run_module + 258\n",
      "107 python3.9                           0x0000000104b80781 pymain_run_python + 241\n",
      "108 python3.9                           0x0000000104b80645 Py_RunMain + 37\n",
      "109 python3.9                           0x0000000104b81d10 pymain_main + 64\n",
      "110 python3.9                           0x0000000104966238 main + 56\n",
      "111 dyld                                0x0000000205153310 start + 2432\n"
     ]
    }
   ],
   "source": [
    "cap = cv2.VideoCapture(0) # default , # 1 for external camera\n",
    "\n",
    "while True:\n",
    "    ret, frame = cap.read()\n",
    "    \n",
    "    if ret == False:\n",
    "        break\n",
    "        \n",
    "    pred_frame = face_rec.face_prediction(frame,retrive_df,'facial_features',['Name','Role'],thresh=0.5)\n",
    "    \n",
    "    #cv2.imshow('frame',frame)\n",
    "    cv2.imshow('prediciton',pred_frame)\n",
    "    \n",
    "    if cv2.waitKey(1) == 27: # if i press esc button this condition will get trigged\n",
    "        break\n",
    "        \n",
    "cv2.destroyAllWindows()\n",
    "cap.release()"
   ]
  },
  {
   "cell_type": "markdown",
   "id": "3effcd23-8b1b-46e3-8724-bef477925bf7",
   "metadata": {},
   "source": [
    "### Delete an Entry\n"
   ]
  },
  {
   "cell_type": "code",
   "execution_count": 26,
   "id": "fdea4ec3-6bc1-4a7b-b0f1-c8e19d09069a",
   "metadata": {},
   "outputs": [],
   "source": [
    "import face_rec"
   ]
  },
  {
   "cell_type": "code",
   "execution_count": 5,
   "id": "99731627-58bb-460e-888a-e1b31ca3b099",
   "metadata": {},
   "outputs": [],
   "source": [
    "# Function to delete entry from Redis based on name and role\n",
    "def delete_entry_from_redis(name, role):\n",
    "    \"\"\"\n",
    "    Deletes an entry from the Redis database based on the provided name and role.\n",
    "    \"\"\"\n",
    "    key = f'{name}@{role}'  # Create the unique key based on name and role\n",
    "    \n",
    "    # Check if the entry exists\n",
    "    if face_rec.r.hexists('academy:register', key):\n",
    "        face_rec.r.hdel('academy:register', key)\n",
    "        return True\n",
    "    else:\n",
    "        return False\n"
   ]
  },
  {
   "cell_type": "code",
   "execution_count": 6,
   "id": "6f159770-6d32-41c3-aa00-1adc6b30c98d",
   "metadata": {},
   "outputs": [
    {
     "name": "stdin",
     "output_type": "stream",
     "text": [
      "Enter the name of the person to delete:  Ayush_PC24\n",
      "Enter the role of the person to delete:  Student\n"
     ]
    },
    {
     "name": "stdout",
     "output_type": "stream",
     "text": [
      "Entry for Ayush_PC24 (Student) has been deleted from Redis.\n"
     ]
    }
   ],
   "source": [
    "# Example usage of the delete function\n",
    "if __name__ == \"__main__\":\n",
    "    name_to_delete = input(\"Enter the name of the person to delete: \")\n",
    "    role_to_delete = input(\"Enter the role of the person to delete: \")\n",
    "\n",
    "    if delete_entry_from_redis(name_to_delete, role_to_delete):\n",
    "        print(f\"Entry for {name_to_delete} ({role_to_delete}) has been deleted from Redis.\")\n",
    "    else:\n",
    "        print(f\"No entry found for {name_to_delete} ({role_to_delete}).\")"
   ]
  },
  {
   "cell_type": "code",
   "execution_count": null,
   "id": "30551baf-84a2-48ee-884a-b3295d065c98",
   "metadata": {},
   "outputs": [],
   "source": []
  }
 ],
 "metadata": {
  "kernelspec": {
   "display_name": "Python 3 (ipykernel)",
   "language": "python",
   "name": "python3"
  },
  "language_info": {
   "codemirror_mode": {
    "name": "ipython",
    "version": 3
   },
   "file_extension": ".py",
   "mimetype": "text/x-python",
   "name": "python",
   "nbconvert_exporter": "python",
   "pygments_lexer": "ipython3",
   "version": "3.9.13"
  }
 },
 "nbformat": 4,
 "nbformat_minor": 5
}
