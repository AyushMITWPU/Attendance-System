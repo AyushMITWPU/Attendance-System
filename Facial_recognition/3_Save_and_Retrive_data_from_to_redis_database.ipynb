{
 "cells": [
  {
   "cell_type": "code",
   "execution_count": 1,
   "id": "08d7f271-7e48-438b-9320-d6c65f6dac78",
   "metadata": {},
   "outputs": [],
   "source": [
    "import numpy as np\n",
    "import pandas as pd\n",
    "import redis"
   ]
  },
  {
   "cell_type": "code",
   "execution_count": 2,
   "id": "8e333607-64b0-4491-81e4-61bd09cd9ecd",
   "metadata": {},
   "outputs": [],
   "source": [
    "# Connect to Redis Client\n",
    "#redis-12600.c74.us-east-1-4.ec2.redns.redis-cloud.com:12600\n",
    "#pU2tLxCdXVKWFsf38VssWmjtWq2q1vZa\n",
    "hostname = 'redis-12600.c74.us-east-1-4.ec2.redns.redis-cloud.com'\n",
    "portnumber = 12600\n",
    "password = 'pU2tLxCdXVKWFsf38VssWmjtWq2q1vZa'\n",
    "\n",
    "r = redis.StrictRedis(host=hostname,\n",
    "                      port=portnumber,\n",
    "                      password=password)"
   ]
  },
  {
   "cell_type": "code",
   "execution_count": 3,
   "id": "55a0edd9-85a1-4de2-8a09-3231aa3c47f1",
   "metadata": {},
   "outputs": [
    {
     "data": {
      "text/plain": [
       "True"
      ]
     },
     "execution_count": 3,
     "metadata": {},
     "output_type": "execute_result"
    }
   ],
   "source": [
    "r.ping()"
   ]
  },
  {
   "cell_type": "markdown",
   "id": "de94557b-de18-418a-be13-9877a39047ad",
   "metadata": {},
   "source": [
    "#### Load the data (numpy zip)"
   ]
  },
  {
   "cell_type": "code",
   "execution_count": 4,
   "id": "6e7b3db9-ecc7-4ac0-ab3c-3fc3c2440408",
   "metadata": {},
   "outputs": [
    {
     "data": {
      "text/html": [
       "<div>\n",
       "<style scoped>\n",
       "    .dataframe tbody tr th:only-of-type {\n",
       "        vertical-align: middle;\n",
       "    }\n",
       "\n",
       "    .dataframe tbody tr th {\n",
       "        vertical-align: top;\n",
       "    }\n",
       "\n",
       "    .dataframe thead th {\n",
       "        text-align: right;\n",
       "    }\n",
       "</style>\n",
       "<table border=\"1\" class=\"dataframe\">\n",
       "  <thead>\n",
       "    <tr style=\"text-align: right;\">\n",
       "      <th></th>\n",
       "      <th>Name</th>\n",
       "      <th>Role</th>\n",
       "      <th>Facial_Features</th>\n",
       "    </tr>\n",
       "  </thead>\n",
       "  <tbody>\n",
       "    <tr>\n",
       "      <th>0</th>\n",
       "      <td>Angelina Jolie</td>\n",
       "      <td>Student</td>\n",
       "      <td>[0.43206447, 1.075011, -0.1285299, -1.8333918,...</td>\n",
       "    </tr>\n",
       "    <tr>\n",
       "      <th>1</th>\n",
       "      <td>Barack Obama</td>\n",
       "      <td>Teacher</td>\n",
       "      <td>[0.94841325, -0.5583419, 0.09482177, -1.279714...</td>\n",
       "    </tr>\n",
       "    <tr>\n",
       "      <th>2</th>\n",
       "      <td>Chris Evans</td>\n",
       "      <td>Student</td>\n",
       "      <td>[0.7200023, -1.4684912, -0.7778238, -1.4601221...</td>\n",
       "    </tr>\n",
       "    <tr>\n",
       "      <th>3</th>\n",
       "      <td>Morgan Freeman</td>\n",
       "      <td>Teacher</td>\n",
       "      <td>[0.48527828, -0.6193287, -0.40698832, 1.068717...</td>\n",
       "    </tr>\n",
       "    <tr>\n",
       "      <th>4</th>\n",
       "      <td>Scarlett Johansson</td>\n",
       "      <td>Student</td>\n",
       "      <td>[0.3408678, -0.5793298, -1.7011663, 0.35731304...</td>\n",
       "    </tr>\n",
       "  </tbody>\n",
       "</table>\n",
       "</div>"
      ],
      "text/plain": [
       "                 Name     Role  \\\n",
       "0      Angelina Jolie  Student   \n",
       "1        Barack Obama  Teacher   \n",
       "2         Chris Evans  Student   \n",
       "3      Morgan Freeman  Teacher   \n",
       "4  Scarlett Johansson  Student   \n",
       "\n",
       "                                     Facial_Features  \n",
       "0  [0.43206447, 1.075011, -0.1285299, -1.8333918,...  \n",
       "1  [0.94841325, -0.5583419, 0.09482177, -1.279714...  \n",
       "2  [0.7200023, -1.4684912, -0.7778238, -1.4601221...  \n",
       "3  [0.48527828, -0.6193287, -0.40698832, 1.068717...  \n",
       "4  [0.3408678, -0.5793298, -1.7011663, 0.35731304...  "
      ]
     },
     "execution_count": 4,
     "metadata": {},
     "output_type": "execute_result"
    }
   ],
   "source": [
    "np_file = np.load('dataframe_students_teacher.npz',allow_pickle=True)\n",
    "x_values = np_file['arr_0']\n",
    "col_names = np_file['arr_1']\n",
    "\n",
    "df = pd.DataFrame(x_values,columns=col_names)\n",
    "df"
   ]
  },
  {
   "cell_type": "code",
   "execution_count": 5,
   "id": "87faf500-6205-469d-8ece-eb31909974b4",
   "metadata": {},
   "outputs": [
    {
     "data": {
      "text/html": [
       "<div>\n",
       "<style scoped>\n",
       "    .dataframe tbody tr th:only-of-type {\n",
       "        vertical-align: middle;\n",
       "    }\n",
       "\n",
       "    .dataframe tbody tr th {\n",
       "        vertical-align: top;\n",
       "    }\n",
       "\n",
       "    .dataframe thead th {\n",
       "        text-align: right;\n",
       "    }\n",
       "</style>\n",
       "<table border=\"1\" class=\"dataframe\">\n",
       "  <thead>\n",
       "    <tr style=\"text-align: right;\">\n",
       "      <th></th>\n",
       "      <th>Name</th>\n",
       "      <th>Role</th>\n",
       "      <th>Facial_Features</th>\n",
       "      <th>name_role</th>\n",
       "    </tr>\n",
       "  </thead>\n",
       "  <tbody>\n",
       "    <tr>\n",
       "      <th>0</th>\n",
       "      <td>Angelina Jolie</td>\n",
       "      <td>Student</td>\n",
       "      <td>[0.43206447, 1.075011, -0.1285299, -1.8333918,...</td>\n",
       "      <td>Angelina Jolie@Student</td>\n",
       "    </tr>\n",
       "    <tr>\n",
       "      <th>1</th>\n",
       "      <td>Barack Obama</td>\n",
       "      <td>Teacher</td>\n",
       "      <td>[0.94841325, -0.5583419, 0.09482177, -1.279714...</td>\n",
       "      <td>Barack Obama@Teacher</td>\n",
       "    </tr>\n",
       "    <tr>\n",
       "      <th>2</th>\n",
       "      <td>Chris Evans</td>\n",
       "      <td>Student</td>\n",
       "      <td>[0.7200023, -1.4684912, -0.7778238, -1.4601221...</td>\n",
       "      <td>Chris Evans@Student</td>\n",
       "    </tr>\n",
       "    <tr>\n",
       "      <th>3</th>\n",
       "      <td>Morgan Freeman</td>\n",
       "      <td>Teacher</td>\n",
       "      <td>[0.48527828, -0.6193287, -0.40698832, 1.068717...</td>\n",
       "      <td>Morgan Freeman@Teacher</td>\n",
       "    </tr>\n",
       "    <tr>\n",
       "      <th>4</th>\n",
       "      <td>Scarlett Johansson</td>\n",
       "      <td>Student</td>\n",
       "      <td>[0.3408678, -0.5793298, -1.7011663, 0.35731304...</td>\n",
       "      <td>Scarlett Johansson@Student</td>\n",
       "    </tr>\n",
       "  </tbody>\n",
       "</table>\n",
       "</div>"
      ],
      "text/plain": [
       "                 Name     Role  \\\n",
       "0      Angelina Jolie  Student   \n",
       "1        Barack Obama  Teacher   \n",
       "2         Chris Evans  Student   \n",
       "3      Morgan Freeman  Teacher   \n",
       "4  Scarlett Johansson  Student   \n",
       "\n",
       "                                     Facial_Features  \\\n",
       "0  [0.43206447, 1.075011, -0.1285299, -1.8333918,...   \n",
       "1  [0.94841325, -0.5583419, 0.09482177, -1.279714...   \n",
       "2  [0.7200023, -1.4684912, -0.7778238, -1.4601221...   \n",
       "3  [0.48527828, -0.6193287, -0.40698832, 1.068717...   \n",
       "4  [0.3408678, -0.5793298, -1.7011663, 0.35731304...   \n",
       "\n",
       "                    name_role  \n",
       "0      Angelina Jolie@Student  \n",
       "1        Barack Obama@Teacher  \n",
       "2         Chris Evans@Student  \n",
       "3      Morgan Freeman@Teacher  \n",
       "4  Scarlett Johansson@Student  "
      ]
     },
     "execution_count": 5,
     "metadata": {},
     "output_type": "execute_result"
    }
   ],
   "source": [
    "df['name_role'] = df['Name']+'@'+df['Role']\n",
    "df"
   ]
  },
  {
   "cell_type": "code",
   "execution_count": 6,
   "id": "77d96b68-3a01-43fd-9a9b-10be9efd9c33",
   "metadata": {},
   "outputs": [
    {
     "data": {
      "text/plain": [
       "5"
      ]
     },
     "execution_count": 6,
     "metadata": {},
     "output_type": "execute_result"
    }
   ],
   "source": [
    "records = df[['name_role','Facial_Features']].to_dict(orient='records')\n",
    "len(records)"
   ]
  },
  {
   "cell_type": "markdown",
   "id": "026493cd-fc13-4803-8ba5-12edcf8412bf",
   "metadata": {},
   "source": [
    "## Save data in Redis\n",
    "- redis hashes\n",
    "- keyname = 'academy:register'"
   ]
  },
  {
   "cell_type": "code",
   "execution_count": 7,
   "id": "7f500a72-d056-4a44-8816-531bea274bf7",
   "metadata": {},
   "outputs": [],
   "source": [
    "for record in records:\n",
    "    name_role = record['name_role']\n",
    "    vector = record['Facial_Features']\n",
    "    \n",
    "    # convert numpy array into bytes\n",
    "    vector_bytes = vector.tobytes()\n",
    "    \n",
    "    # save data into redis cloud\n",
    "    r.hset(name='academy:register',key=name_role,value=vector_bytes)"
   ]
  },
  {
   "cell_type": "code",
   "execution_count": 8,
   "id": "a27ace70-aded-45ca-870e-93c68f3eada4",
   "metadata": {},
   "outputs": [
    {
     "data": {
      "text/plain": [
       "dtype('float32')"
      ]
     },
     "execution_count": 8,
     "metadata": {},
     "output_type": "execute_result"
    }
   ],
   "source": [
    "vector.dtype"
   ]
  },
  {
   "cell_type": "markdown",
   "id": "5bc10f12-4670-4c29-a8fa-e4759b19b168",
   "metadata": {},
   "source": [
    "### Retrive Records from Redis"
   ]
  },
  {
   "cell_type": "code",
   "execution_count": 9,
   "id": "3878db58-88b3-4dc6-b205-2e37a6a6006e",
   "metadata": {},
   "outputs": [
    {
     "data": {
      "text/plain": [
       "b'Prabhanjan_PC19@Student'       b'\\xc5\\xb1\\x0c\\xbe-\\xd5\\x17?\\xcc\\xc3.?\\x97\\xdf...\n",
       "b'Anish_PA70@Student'            b'V\\x8fl\\xbf\\xc5\\xb36\\xbf=\\x16r\\xbeMF\\x1e\\xbeh...\n",
       "b'Barack Obama@Teacher'          b'6\\xcbr?\\x7f\\xef\\x0e\\xbf\\xeb1\\xc2=\\xaf\\xcd\\xa...\n",
       "b'Angelina Jolie@Student'        b'\\x8e7\\xdd>\\xf6\\x99\\x89?X\\x9d\\x03\\xbe\\x95\\xac...\n",
       "b'Morgan Freeman@Teacher'        b'ev\\xf8>S\\x8c\\x1e\\xbf\\xc6`\\xd0\\xbe\\xbf\\xcb\\x8...\n",
       "b'Chris Evans@Student'           b'\\x12R8?\\x85\\xf7\\xbb\\xbfv\\x1fG\\xbfH\\xe5\\xba\\x...\n",
       "b'Scarlett Johansson@Student'    b'9\\x86\\xae>\\xf5N\\x14\\xbf\\xd1\\xbf\\xd9\\xbf\\xbc\\...\n",
       "dtype: object"
      ]
     },
     "execution_count": 9,
     "metadata": {},
     "output_type": "execute_result"
    }
   ],
   "source": [
    "retrive_dict = r.hgetall(name='academy:register')\n",
    "retrive_series = pd.Series(retrive_dict)\n",
    "retrive_series"
   ]
  },
  {
   "cell_type": "code",
   "execution_count": 10,
   "id": "03782415-aa82-4c3c-8a2c-bc994bc6a0e5",
   "metadata": {},
   "outputs": [],
   "source": [
    "#np.frombuffer(retrive_series[b'Morgan Freeman@Teacher'],dtype=np.float32).shape\n",
    "retrive_series = retrive_series.apply(lambda x: np.frombuffer(x,dtype=np.float32))\n",
    "index = retrive_series.index\n",
    "index = list(map(lambda x: x.decode(), index))"
   ]
  },
  {
   "cell_type": "code",
   "execution_count": 11,
   "id": "0370a7c9-cf45-4e1a-9d56-69ea94a3c08d",
   "metadata": {},
   "outputs": [],
   "source": [
    "retrive_series.index = index"
   ]
  },
  {
   "cell_type": "code",
   "execution_count": 12,
   "id": "607a8d01-64b3-4ce2-8970-4c5d84e93a3e",
   "metadata": {},
   "outputs": [
    {
     "data": {
      "text/html": [
       "<div>\n",
       "<style scoped>\n",
       "    .dataframe tbody tr th:only-of-type {\n",
       "        vertical-align: middle;\n",
       "    }\n",
       "\n",
       "    .dataframe tbody tr th {\n",
       "        vertical-align: top;\n",
       "    }\n",
       "\n",
       "    .dataframe thead th {\n",
       "        text-align: right;\n",
       "    }\n",
       "</style>\n",
       "<table border=\"1\" class=\"dataframe\">\n",
       "  <thead>\n",
       "    <tr style=\"text-align: right;\">\n",
       "      <th></th>\n",
       "      <th>name_role</th>\n",
       "      <th>facial_features</th>\n",
       "    </tr>\n",
       "  </thead>\n",
       "  <tbody>\n",
       "    <tr>\n",
       "      <th>0</th>\n",
       "      <td>Prabhanjan_PC19@Student</td>\n",
       "      <td>[-0.13739689, 0.59309655, 0.6826751, 0.8627867...</td>\n",
       "    </tr>\n",
       "    <tr>\n",
       "      <th>1</th>\n",
       "      <td>Anish_PA70@Student</td>\n",
       "      <td>[-0.92406213, -0.71368057, -0.23641296, -0.154...</td>\n",
       "    </tr>\n",
       "    <tr>\n",
       "      <th>2</th>\n",
       "      <td>Barack Obama@Teacher</td>\n",
       "      <td>[0.94841325, -0.5583419, 0.09482177, -1.279714...</td>\n",
       "    </tr>\n",
       "    <tr>\n",
       "      <th>3</th>\n",
       "      <td>Angelina Jolie@Student</td>\n",
       "      <td>[0.43206447, 1.075011, -0.1285299, -1.8333918,...</td>\n",
       "    </tr>\n",
       "    <tr>\n",
       "      <th>4</th>\n",
       "      <td>Morgan Freeman@Teacher</td>\n",
       "      <td>[0.48527828, -0.6193287, -0.40698832, 1.068717...</td>\n",
       "    </tr>\n",
       "    <tr>\n",
       "      <th>5</th>\n",
       "      <td>Chris Evans@Student</td>\n",
       "      <td>[0.7200023, -1.4684912, -0.7778238, -1.4601221...</td>\n",
       "    </tr>\n",
       "    <tr>\n",
       "      <th>6</th>\n",
       "      <td>Scarlett Johansson@Student</td>\n",
       "      <td>[0.3408678, -0.5793298, -1.7011663, 0.35731304...</td>\n",
       "    </tr>\n",
       "  </tbody>\n",
       "</table>\n",
       "</div>"
      ],
      "text/plain": [
       "                    name_role  \\\n",
       "0     Prabhanjan_PC19@Student   \n",
       "1          Anish_PA70@Student   \n",
       "2        Barack Obama@Teacher   \n",
       "3      Angelina Jolie@Student   \n",
       "4      Morgan Freeman@Teacher   \n",
       "5         Chris Evans@Student   \n",
       "6  Scarlett Johansson@Student   \n",
       "\n",
       "                                     facial_features  \n",
       "0  [-0.13739689, 0.59309655, 0.6826751, 0.8627867...  \n",
       "1  [-0.92406213, -0.71368057, -0.23641296, -0.154...  \n",
       "2  [0.94841325, -0.5583419, 0.09482177, -1.279714...  \n",
       "3  [0.43206447, 1.075011, -0.1285299, -1.8333918,...  \n",
       "4  [0.48527828, -0.6193287, -0.40698832, 1.068717...  \n",
       "5  [0.7200023, -1.4684912, -0.7778238, -1.4601221...  \n",
       "6  [0.3408678, -0.5793298, -1.7011663, 0.35731304...  "
      ]
     },
     "execution_count": 12,
     "metadata": {},
     "output_type": "execute_result"
    }
   ],
   "source": [
    "retrive_df = retrive_series.to_frame().reset_index()\n",
    "retrive_df.columns = ['name_role','facial_features']\n",
    "retrive_df"
   ]
  },
  {
   "cell_type": "markdown",
   "id": "77c43797-e8fa-49eb-aa4e-cd2a1b761ffa",
   "metadata": {},
   "source": [
    "### Registration Form"
   ]
  },
  {
   "cell_type": "code",
   "execution_count": 13,
   "id": "3c6bcc56-6839-4af0-8e82-a0504b57ca9e",
   "metadata": {},
   "outputs": [
    {
     "name": "stderr",
     "output_type": "stream",
     "text": [
      "/Users/ayush/Desktop/safrs/attendance_system/lib/python3.9/site-packages/albumentations/__init__.py:13: UserWarning: A new version of Albumentations is available: 1.4.21 (you have 1.4.18). Upgrade using: pip install -U albumentations. To disable automatic update checks, set the environment variable NO_ALBUMENTATIONS_UPDATE to 1.\n",
      "  check_for_updates()\n"
     ]
    }
   ],
   "source": [
    "import cv2\n",
    "from insightface.app import FaceAnalysis"
   ]
  },
  {
   "cell_type": "code",
   "execution_count": 14,
   "id": "a579a99a-f64d-445a-ab51-5a64fa463694",
   "metadata": {},
   "outputs": [
    {
     "name": "stdout",
     "output_type": "stream",
     "text": [
      "Applied providers: ['CPUExecutionProvider'], with options: {'CPUExecutionProvider': {}}\n",
      "find model: insightface_model/models/buffalo_sc/det_500m.onnx detection [1, 3, '?', '?'] 127.5 128.0\n",
      "Applied providers: ['CPUExecutionProvider'], with options: {'CPUExecutionProvider': {}}\n",
      "find model: insightface_model/models/buffalo_sc/w600k_mbf.onnx recognition ['None', 3, 112, 112] 127.5 127.5\n",
      "set det-size: (640, 640)\n"
     ]
    }
   ],
   "source": [
    "# configure face analysis\n",
    "faceapp = FaceAnalysis(name='buffalo_sc',\n",
    "                       root='insightface_model',\n",
    "                       providers=['CPUExecutionProvider'])\n",
    "\n",
    "faceapp.prepare(ctx_id=0, det_size=(640,640), det_thresh=0.5)\n",
    "# warning: don't set det_thresh < 0.3"
   ]
  },
  {
   "cell_type": "markdown",
   "id": "32b4d3b7-a947-4ec1-a1aa-96faa56b425f",
   "metadata": {},
   "source": [
    "##### Step-1: Collect Person and Role"
   ]
  },
  {
   "cell_type": "code",
   "execution_count": 15,
   "id": "d572397a-28d2-4877-8499-944315c5eef2",
   "metadata": {},
   "outputs": [
    {
     "name": "stdin",
     "output_type": "stream",
     "text": [
      "Enter your name:  Ayush_PC24\n",
      "\n",
      "    Please choose\n",
      "    1. Student\n",
      "    2. Teacher\n",
      "\n",
      "    Enter number either 1 or 2\n",
      "     1\n"
     ]
    },
    {
     "name": "stdout",
     "output_type": "stream",
     "text": [
      "Your name =  Ayush_PC24\n",
      "Your role = Student\n",
      "Key = Ayush_PC24@Student\n"
     ]
    }
   ],
   "source": [
    "# python input\n",
    "person_name = input('Enter your name: ')\n",
    "\n",
    "trials = 3\n",
    "for i in range(trials):\n",
    "    role = input(\"\"\"\n",
    "    Please choose\n",
    "    1. Student\n",
    "    2. Teacher\n",
    "\n",
    "    Enter number either 1 or 2\n",
    "    \"\"\")\n",
    "    \n",
    "    if role in ('1','2'):\n",
    "        if role == '1':\n",
    "            role = 'Student'\n",
    "        else:\n",
    "            role = 'Teacher'\n",
    "        \n",
    "        break\n",
    "    else:\n",
    "        print('Invalid entry try again')\n",
    "        if i == 3:\n",
    "            print('Exceeds maximum trails')\n",
    "            \n",
    "key = person_name +'@'+ role\n",
    "print('Your name = ', person_name)\n",
    "print('Your role =', role)\n",
    "print('Key =',key)"
   ]
  },
  {
   "cell_type": "markdown",
   "id": "92c27a7a-1bf9-4dbe-9a6e-e3657f539fc2",
   "metadata": {},
   "source": [
    "##### Step-2: Collect Samples"
   ]
  },
  {
   "cell_type": "code",
   "execution_count": 16,
   "id": "8d902c36-c227-4546-944a-d3e7a119192a",
   "metadata": {},
   "outputs": [],
   "source": [
    "cap = cv2.VideoCapture(0) # 0 default camera, 1 external camera\n",
    "face_embeddings = []\n",
    "sample = 0\n",
    "while True:\n",
    "    ret, frame = cap.read()\n",
    "    if ret == False:\n",
    "        print('Unable to read camera')\n",
    "        break\n",
    "    \n",
    "    # get results from insightface model\n",
    "    results = faceapp.get(frame,max_num=1)\n",
    "    for res in results:\n",
    "        sample += 1\n",
    "        x1, y1, x2, y2 = res['bbox'].astype(int)\n",
    "        cv2.rectangle(frame, (x1,y1),(x2,y2),(0,255,0),1)\n",
    "        \n",
    "        # facial features\n",
    "        embeddings = res['embedding']\n",
    "        face_embeddings.append(embeddings)\n",
    "        \n",
    "    if sample >= 200: \n",
    "        break\n",
    "    \n",
    "    cv2.imshow('frame',frame)\n",
    "    if cv2.waitKey(1) == ord('q'): # this is trigger only when I press letter q (lowercase q) in my keyboard\n",
    "        break\n",
    "        \n",
    "cap.release()\n",
    "cv2.destroyAllWindows()"
   ]
  },
  {
   "cell_type": "code",
   "execution_count": 17,
   "id": "05610cfa-c607-4bab-a5ea-8ae6e223440b",
   "metadata": {},
   "outputs": [
    {
     "data": {
      "text/plain": [
       "200"
      ]
     },
     "execution_count": 17,
     "metadata": {},
     "output_type": "execute_result"
    }
   ],
   "source": [
    "len(face_embeddings)"
   ]
  },
  {
   "cell_type": "markdown",
   "id": "da7499ca-aa88-48d4-a8a7-d85c574dd184",
   "metadata": {},
   "source": [
    "##### Step-3: Optimize Data & Save in Redis Database"
   ]
  },
  {
   "cell_type": "code",
   "execution_count": 21,
   "id": "1a3ca4f8-905c-4569-bc40-3e68543cddfe",
   "metadata": {},
   "outputs": [
    {
     "data": {
      "text/plain": [
       "(512,)"
      ]
     },
     "execution_count": 21,
     "metadata": {},
     "output_type": "execute_result"
    }
   ],
   "source": [
    "x_mean = np.asarray(face_embeddings).mean(axis=0)\n",
    "x_mean.shape"
   ]
  },
  {
   "cell_type": "code",
   "execution_count": 22,
   "id": "9500e9b2-9365-454f-a901-58b80a5eaa1e",
   "metadata": {},
   "outputs": [],
   "source": [
    "# convert into bytes\n",
    "x_mean_bytes = x_mean.tobytes()"
   ]
  },
  {
   "cell_type": "code",
   "execution_count": 23,
   "id": "faff7664-97c1-486f-813b-afb7593b82f7",
   "metadata": {},
   "outputs": [
    {
     "data": {
      "text/plain": [
       "1"
      ]
     },
     "execution_count": 23,
     "metadata": {},
     "output_type": "execute_result"
    }
   ],
   "source": [
    "# save key and facial bytes into redis database\n",
    "r.hset(name='academy:register',key=key,value=x_mean_bytes)"
   ]
  },
  {
   "cell_type": "code",
   "execution_count": null,
   "id": "31c9cc88-3524-424c-9bd7-19fa2f5222e8",
   "metadata": {},
   "outputs": [],
   "source": []
  },
  {
   "cell_type": "code",
   "execution_count": null,
   "id": "6f496ea5-6044-47a7-a503-81d9e065f1c7",
   "metadata": {},
   "outputs": [],
   "source": []
  },
  {
   "cell_type": "code",
   "execution_count": null,
   "id": "cce85db6-819f-4822-bd1b-0cb82cda561e",
   "metadata": {},
   "outputs": [],
   "source": []
  }
 ],
 "metadata": {
  "kernelspec": {
   "display_name": "Python 3 (ipykernel)",
   "language": "python",
   "name": "python3"
  },
  "language_info": {
   "codemirror_mode": {
    "name": "ipython",
    "version": 3
   },
   "file_extension": ".py",
   "mimetype": "text/x-python",
   "name": "python",
   "nbconvert_exporter": "python",
   "pygments_lexer": "ipython3",
   "version": "3.9.13"
  }
 },
 "nbformat": 4,
 "nbformat_minor": 5
}
